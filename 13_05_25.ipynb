{
  "nbformat": 4,
  "nbformat_minor": 0,
  "metadata": {
    "colab": {
      "provenance": []
    },
    "kernelspec": {
      "name": "python3",
      "display_name": "Python 3"
    },
    "language_info": {
      "name": "python"
    }
  },
  "cells": [
    {
      "cell_type": "code",
      "execution_count": 3,
      "metadata": {
        "colab": {
          "base_uri": "https://localhost:8080/"
        },
        "id": "HkIc4mJv5-q3",
        "outputId": "957d79cc-1cbf-4fd3-d9cc-f79cdfed0f3d"
      },
      "outputs": [
        {
          "output_type": "stream",
          "name": "stdout",
          "text": [
            "Dados do DataFrame:\n",
            "      Nome  Idade          Cidade\n",
            "0    Pedro     25       São Paulo\n",
            "1      Ana     30  Rio de Janeiro\n",
            "2   Carlos     22        Curitiba\n",
            "3  Mariana     27  Belo Horizonte\n",
            "\n",
            "Pessoas com idade maior que 24:\n",
            "      Nome  Idade          Cidade\n",
            "0    Pedro     25       São Paulo\n",
            "1      Ana     30  Rio de Janeiro\n",
            "3  Mariana     27  Belo Horizonte\n"
          ]
        }
      ],
      "source": [
        "import pandas as pd\n",
        "\n",
        "# Criando um DataFrame com dados fictícios\n",
        "dados = {\n",
        "    'Nome': ['Pedro', 'Ana', 'Carlos', 'Mariana'],\n",
        "    'Idade': [25, 30, 22, 27],\n",
        "    'Cidade': ['São Paulo', 'Rio de Janeiro', 'Curitiba', 'Belo Horizonte']\n",
        "}\n",
        "\n",
        "df = pd.DataFrame(dados)\n",
        "\n",
        "# Exibindo o DataFrame\n",
        "print(\"Dados do DataFrame:\")\n",
        "print(df)\n",
        "\n",
        "# Algumas operações básicas\n",
        "#print(\"\\nInformações do DataFrame:\")\n",
        "#print(df.info())\n",
        "\n",
        "#print(\"\\nEstatísticas Descritivas:\")\n",
        "#print(df.describe())\n",
        "\n",
        "# Filtrando os dados (exemplo: pessoas com idade maior que 24)\n",
        "df_filtrado = df[df['Idade'] > 24]\n",
        "print(\"\\nPessoas com idade maior que 24:\")\n",
        "print(df_filtrado)"
      ]
    }
  ]
}